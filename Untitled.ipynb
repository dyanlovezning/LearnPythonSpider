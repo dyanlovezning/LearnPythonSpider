{
 "cells": [
  {
   "cell_type": "code",
   "execution_count": null,
   "metadata": {},
   "outputs": [],
   "source": [
    "import requests\n",
    "from bs4 import BeautifulSoup\n",
    "\n",
    "headers = {\n",
    "        \"User-Agent\": \"Mozilla/5.0 (Macintosh; Intel Mac OS X 10_13_6) AppleWebKit/537.36 (KHTML, like Gecko) Chrome/69.0.3497.100 Safari/537.36\",\n",
    "    }\n",
    "\n",
    "def getWeath(city_code):\n",
    "    try:\n",
    "        url = f'http://www.weather.com.cn/weather/{city_code}.shtml'\n",
    "        resp = requests.get(url, headers = headers)\n",
    "    except BaseException as e:\n",
    "        print(e)\n",
    "        return {}\n",
    "\n",
    "    resp.encoding = 'utf-8'\n",
    "    soup = BeautifulSoup(resp.text, 'html.parser')\n",
    "    tagToday = soup.find('p', class_ = \"tem\")  #第一个包含class=\"tem\"的p标签即为存放今天天气数据的标签\n",
    "    try:\n",
    "        temperatureHigh = tagToday.span.string  #有时候这个最高温度是不显示的，此时利用第二天的最高温度代替。\n",
    "    except AttributeError:\n",
    "        temperatureHigh = tagToday.find_next('p', class_=\"tem\").span.string  #获取第二天的最高温度代替\n",
    "\n",
    "    temperatureLow = tagToday.i.string  #获取最低温度\n",
    "    weather = soup.find('p', class_ = \"wea\").string #获取天气\n",
    "    wind = soup.find('p', class_ = \"win\") #获取风力\n",
    "    clothes = soup.find('li', class_ = \"li3 hot\") #穿衣指数\n",
    "\n",
    "    return {'温度':f'{temperatureHigh}/{temperatureLow}'\n",
    "    , '天气':weather\n",
    "    , '风力':wind.i.string\n",
    "    , '穿衣':clothes.a.span.string + ',' + clothes.a.p.string}"
   ]
  },
  {
   "cell_type": "code",
   "execution_count": null,
   "metadata": {},
   "outputs": [],
   "source": [
    "str = getWeath(\"101010300\")\n",
    "print(str)"
   ]
  },
  {
   "cell_type": "code",
   "execution_count": null,
   "metadata": {},
   "outputs": [],
   "source": []
  },
  {
   "cell_type": "code",
   "execution_count": null,
   "metadata": {},
   "outputs": [],
   "source": []
  },
  {
   "cell_type": "code",
   "execution_count": null,
   "metadata": {},
   "outputs": [],
   "source": [
    "import schedule\n",
    "import time\n",
    "\n",
    "def job():\n",
    "    print(\"I'm working...\")\n",
    "\n",
    "schedule.every(10).second.do(job)\n",
    "schedule.every(1).minutes.do(job)\n",
    "schedule.every().hour.do(job)\n",
    "schedule.every().day.at(\"10:30\").do(job)\n",
    "schedule.every(5).to(10).minutes.do(job)\n",
    "schedule.every().monday.do(job)\n",
    "schedule.every().wednesday.at(\"13:15\").do(job)\n",
    "\n",
    "while True:\n",
    "    schedule.run_pending()\n",
    "    time.sleep(1)"
   ]
  },
  {
   "cell_type": "code",
   "execution_count": null,
   "metadata": {},
   "outputs": [],
   "source": [
    "from wxpy import *\n",
    "bot = Bot(cache_path = True)   #定义一个微信机器人\n",
    "\n",
    "# 获取所有好友\n",
    "friends = bot.friends()\n",
    "\n",
    "# 遍历输出好友名称\n",
    "#for friend in friends:\n",
    "#    print(friend)\n",
    "print(friends.count)\n",
    "\n",
    "# 搜索名称包含 '游否' 的深圳男性好友\n",
    "found = bot.friends().search('刘扬', sex=MALE)\n",
    "print(found)\n",
    "# [<Friend: 游否>]\n",
    "# 确保搜索结果是唯一的，并取出唯一结果\n",
    "youfou = ensure_one(found)\n",
    "# <Friend: 游否>"
   ]
  }
 ],
 "metadata": {
  "kernelspec": {
   "display_name": "Python 3",
   "language": "python",
   "name": "python3"
  },
  "language_info": {
   "codemirror_mode": {
    "name": "ipython",
    "version": 3
   },
   "file_extension": ".py",
   "mimetype": "text/x-python",
   "name": "python",
   "nbconvert_exporter": "python",
   "pygments_lexer": "ipython3",
   "version": "3.7.1"
  }
 },
 "nbformat": 4,
 "nbformat_minor": 2
}
